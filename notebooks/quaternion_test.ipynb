{
 "cells": [
  {
   "cell_type": "code",
   "execution_count": 8,
   "metadata": {},
   "outputs": [],
   "source": [
    "import json\n",
    "import math\n",
    "import os\n",
    "import sys\n",
    "import cv2\n",
    "import numpy as np\n",
    "import pandas as pd\n",
    "import matplotlib.pyplot as plt\n",
    "\n",
    "from collections import namedtuple, OrderedDict"
   ]
  },
  {
   "cell_type": "code",
   "execution_count": 9,
   "metadata": {},
   "outputs": [],
   "source": [
    "sys.path.insert(0, '../src/lib')"
   ]
  },
  {
   "cell_type": "code",
   "execution_count": 10,
   "metadata": {},
   "outputs": [],
   "source": [
    "from utils.geometry import create_camera_matrix, euler_angles_to_rotation_matrix, euler_angles_to_quaternions, quaternion_to_euler_angle, quaternion_upper_hemispher\n",
    "from utils.image import affine_transform, get_affine_transform, draw_msra_gaussian, draw_umich_gaussian, gaussian_radius, pad_img_sides\n",
    "from utils.kaggle_cars_utils import parse_annot_str"
   ]
  },
  {
   "cell_type": "code",
   "execution_count": 11,
   "metadata": {},
   "outputs": [],
   "source": [
    "INPUT_PATH = '../data/pku-autonomous-driving'"
   ]
  },
  {
   "cell_type": "code",
   "execution_count": 12,
   "metadata": {},
   "outputs": [],
   "source": [
    "def read_split_file(split, data_dir=INPUT_PATH):\n",
    "    path = os.path.join(data_dir, 'split', split+'.txt')\n",
    "    with open(path) as f:\n",
    "        return [line.rstrip('\\n')[:-4] for line in f]\n",
    "\n",
    "\n",
    "def load_annotations(df, img_ids):\n",
    "    anns = []\n",
    "    for img_id in img_ids:\n",
    "        for car in gen_img_annotation(img_id, df):\n",
    "            anns.append(car['rotation'])\n",
    "    return anns\n",
    "\n",
    "\n",
    "def gen_img_annotation(img_id, df):\n",
    "    cond = df['ImageId'] == img_id\n",
    "    cars = df.loc[cond, 'PredictionString'].values[0]\n",
    "    cars = parse_annot_str(str(cars))\n",
    "    return cars"
   ]
  },
  {
   "cell_type": "code",
   "execution_count": 13,
   "metadata": {},
   "outputs": [
    {
     "data": {
      "text/plain": [
       "(4262, 49684)"
      ]
     },
     "execution_count": 13,
     "metadata": {},
     "output_type": "execute_result"
    }
   ],
   "source": [
    "df = pd.read_csv(os.path.join(INPUT_PATH, 'train.csv'))\n",
    "img_ids = read_split_file('train') + read_split_file('val_462')\n",
    "rotations = load_annotations(df, img_ids)\n",
    "len(img_ids), len(rotations)"
   ]
  },
  {
   "cell_type": "code",
   "execution_count": 14,
   "metadata": {},
   "outputs": [
    {
     "data": {
      "text/plain": [
       "0"
      ]
     },
     "execution_count": 14,
     "metadata": {},
     "output_type": "execute_result"
    }
   ],
   "source": [
    "bad_match_idx = []\n",
    "eq_thresh = 2e-7\n",
    "\n",
    "for i, rot0 in enumerate(rotations):\n",
    "    q = euler_angles_to_quaternions(rot0)[0]\n",
    "    q = quaternion_upper_hemispher(q)\n",
    "    rot1 = quaternion_to_euler_angle(q)\n",
    "    \n",
    "    rot_diff = rot1 - rot0\n",
    "    \n",
    "    if (rot_diff > eq_thresh).any():\n",
    "        bad_match_idx.append(i)\n",
    "        \n",
    "len(bad_match_idx)"
   ]
  }
 ],
 "metadata": {
  "kernelspec": {
   "display_name": "Python 3",
   "language": "python",
   "name": "python3"
  },
  "language_info": {
   "codemirror_mode": {
    "name": "ipython",
    "version": 3
   },
   "file_extension": ".py",
   "mimetype": "text/x-python",
   "name": "python",
   "nbconvert_exporter": "python",
   "pygments_lexer": "ipython3",
   "version": "3.6.9"
  }
 },
 "nbformat": 4,
 "nbformat_minor": 2
}
