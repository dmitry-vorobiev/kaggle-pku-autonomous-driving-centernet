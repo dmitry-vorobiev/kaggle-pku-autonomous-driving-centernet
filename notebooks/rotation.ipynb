{
 "cells": [
  {
   "cell_type": "code",
   "execution_count": 1,
   "metadata": {},
   "outputs": [],
   "source": [
    "import json\n",
    "import math\n",
    "import os\n",
    "import sys\n",
    "import cv2\n",
    "import numpy as np\n",
    "import pandas as pd\n",
    "import matplotlib.pyplot as plt\n",
    "\n",
    "from collections import namedtuple, OrderedDict"
   ]
  },
  {
   "cell_type": "code",
   "execution_count": 2,
   "metadata": {},
   "outputs": [],
   "source": [
    "sys.path.insert(0, '../src/lib')"
   ]
  },
  {
   "cell_type": "code",
   "execution_count": 3,
   "metadata": {},
   "outputs": [],
   "source": [
    "from utils.geometry import euler_angles_to_quaternions, quaternion_to_euler_angle, quaternion_upper_hemispher\n",
    "from utils.kaggle_cars_utils import parse_annot_str"
   ]
  },
  {
   "cell_type": "code",
   "execution_count": 4,
   "metadata": {},
   "outputs": [],
   "source": [
    "INPUT_PATH = '../data/pku-autonomous-driving'"
   ]
  },
  {
   "cell_type": "code",
   "execution_count": 5,
   "metadata": {},
   "outputs": [],
   "source": [
    "df = pd.read_csv(os.path.join(INPUT_PATH, 'train.csv'))"
   ]
  },
  {
   "cell_type": "code",
   "execution_count": 6,
   "metadata": {},
   "outputs": [
    {
     "data": {
      "text/plain": [
       "(49684, 4)"
      ]
     },
     "execution_count": 6,
     "metadata": {},
     "output_type": "execute_result"
    }
   ],
   "source": [
    "rots_e3 = []\n",
    "rots_q4 = []\n",
    "\n",
    "for img_ann in df.iloc[:,1].values:\n",
    "    img_ann = parse_annot_str(str(img_ann))\n",
    "    for car in img_ann:\n",
    "        rot_eul = car['rotation']\n",
    "        q = euler_angles_to_quaternions(rot_eul)[0]\n",
    "        q = quaternion_upper_hemispher(q)\n",
    "        rots_e3.append(rot_eul)\n",
    "        rots_q4.append(q)\n",
    "    \n",
    "rots_e3 = np.vstack(rots_e3)\n",
    "rots_q4 = np.vstack(rots_q4)\n",
    "rots_q4.shape"
   ]
  },
  {
   "cell_type": "code",
   "execution_count": 7,
   "metadata": {},
   "outputs": [
    {
     "data": {
      "text/plain": [
       "(2.2779015239135373e-06, 0.9999869986619324)"
      ]
     },
     "execution_count": 7,
     "metadata": {},
     "output_type": "execute_result"
    }
   ],
   "source": [
    "np.abs(np.vstack(rots_q4)).min(), np.abs(np.vstack(rots_q4)).max()"
   ]
  },
  {
   "cell_type": "code",
   "execution_count": 8,
   "metadata": {},
   "outputs": [
    {
     "data": {
      "text/plain": [
       "array([[ 0.254839 , -2.57534  , -3.10256  ],\n",
       "       [ 0.181647 , -1.46947  , -3.12159  ],\n",
       "       [ 0.163072 , -1.56865  , -3.11754  ],\n",
       "       [ 0.141942 , -3.1395   ,  3.11969  ],\n",
       "       [ 0.163068 , -2.08578  , -3.11754  ],\n",
       "       [ 0.163988 ,  0.192169 , -3.12112  ],\n",
       "       [ 0.112482 , -2.96307  ,  3.13951  ],\n",
       "       [ 0.186114 ,  0.35728  , -3.10043  ],\n",
       "       [ 0.0209679,  0.218402 ,  3.12213  ],\n",
       "       [ 0.195428 , -2.84778  , -3.13394  ]])"
      ]
     },
     "execution_count": 8,
     "metadata": {},
     "output_type": "execute_result"
    }
   ],
   "source": [
    "rots_e3[:10]"
   ]
  },
  {
   "cell_type": "code",
   "execution_count": 9,
   "metadata": {},
   "outputs": [
    {
     "data": {
      "text/plain": [
       "array([[ 0.254839 , -2.57534  , -3.10256  ],\n",
       "       [ 0.181647 , -1.46947  , -3.12159  ],\n",
       "       [ 0.163072 , -1.56865  , -3.11754  ],\n",
       "       [ 0.141942 , -3.1395   ,  3.11969  ],\n",
       "       [ 0.163068 , -2.08578  , -3.11754  ],\n",
       "       [ 0.163988 ,  0.192169 , -3.12112  ],\n",
       "       [ 0.112482 , -2.96307  ,  3.13951  ],\n",
       "       [ 0.186114 ,  0.35728  , -3.10043  ],\n",
       "       [ 0.0209679,  0.218402 ,  3.12213  ],\n",
       "       [ 0.195428 , -2.84778  , -3.13394  ]], dtype=float32)"
      ]
     },
     "execution_count": 9,
     "metadata": {},
     "output_type": "execute_result"
    }
   ],
   "source": [
    "np.vstack([quaternion_to_euler_angle(rots_q4[i]) \n",
    "           for i in range(10)])"
   ]
  }
 ],
 "metadata": {
  "kernelspec": {
   "display_name": "Python 3",
   "language": "python",
   "name": "python3"
  },
  "language_info": {
   "codemirror_mode": {
    "name": "ipython",
    "version": 3
   },
   "file_extension": ".py",
   "mimetype": "text/x-python",
   "name": "python",
   "nbconvert_exporter": "python",
   "pygments_lexer": "ipython3",
   "version": "3.6.9"
  }
 },
 "nbformat": 4,
 "nbformat_minor": 2
}
